{
 "cells": [
  {
   "cell_type": "code",
   "execution_count": 1,
   "id": "3b434441",
   "metadata": {},
   "outputs": [],
   "source": [
    "from textblob import TextBlob"
   ]
  },
  {
   "cell_type": "code",
   "execution_count": 2,
   "id": "83ec9278",
   "metadata": {},
   "outputs": [],
   "source": [
    "text = \"My name is Hemanth Gowda\""
   ]
  },
  {
   "cell_type": "code",
   "execution_count": 3,
   "id": "64941377",
   "metadata": {},
   "outputs": [],
   "source": [
    "tb = TextBlob(text)"
   ]
  },
  {
   "cell_type": "markdown",
   "id": "43596e48",
   "metadata": {},
   "source": [
    "# https://www.loc.gov/standards/iso639-2/php/code_list.php"
   ]
  },
  {
   "cell_type": "code",
   "execution_count": 5,
   "id": "506f430c",
   "metadata": {},
   "outputs": [
    {
     "data": {
      "text/plain": [
       "TextBlob(\"ನನ್ನ ಹೆಸರು ಹೇಮಂತ್ ಗೌಡ\")"
      ]
     },
     "execution_count": 5,
     "metadata": {},
     "output_type": "execute_result"
    }
   ],
   "source": [
    "tb.translate(to=\"kn\")"
   ]
  },
  {
   "cell_type": "markdown",
   "id": "648acbeb",
   "metadata": {},
   "source": [
    "# Sentiment classifier using textblob"
   ]
  },
  {
   "cell_type": "code",
   "execution_count": 6,
   "id": "34637578",
   "metadata": {},
   "outputs": [],
   "source": [
    "from textblob.sentiments import NaiveBayesAnalyzer"
   ]
  },
  {
   "cell_type": "code",
   "execution_count": 13,
   "id": "056d8dcf",
   "metadata": {},
   "outputs": [],
   "source": [
    "text1 = \"Mobile battery is very bad\"\n",
    "text2 = \"Mobile display is awesome but charging speed is very low\"\n",
    "text3 = \"Battery, Display, features are ok. I don't recommend purchaing this mobile\""
   ]
  },
  {
   "cell_type": "code",
   "execution_count": 9,
   "id": "1d42aaa5",
   "metadata": {},
   "outputs": [
    {
     "data": {
      "text/plain": [
       "Sentiment(classification='neg', p_pos=0.3330903748152766, p_neg=0.6669096251847233)"
      ]
     },
     "execution_count": 9,
     "metadata": {},
     "output_type": "execute_result"
    }
   ],
   "source": [
    "tb = TextBlob(text1,analyzer=NaiveBayesAnalyzer())\n",
    "tb.sentiment"
   ]
  },
  {
   "cell_type": "code",
   "execution_count": 10,
   "id": "307b755f",
   "metadata": {},
   "outputs": [
    {
     "data": {
      "text/plain": [
       "Sentiment(classification='pos', p_pos=0.5836449777990771, p_neg=0.4163550222009213)"
      ]
     },
     "execution_count": 10,
     "metadata": {},
     "output_type": "execute_result"
    }
   ],
   "source": [
    "tb = TextBlob(text2,analyzer=NaiveBayesAnalyzer())\n",
    "tb.sentiment"
   ]
  },
  {
   "cell_type": "code",
   "execution_count": 14,
   "id": "ece86846",
   "metadata": {},
   "outputs": [
    {
     "data": {
      "text/plain": [
       "Sentiment(classification='neg', p_pos=0.42234613985132413, p_neg=0.5776538601486766)"
      ]
     },
     "execution_count": 14,
     "metadata": {},
     "output_type": "execute_result"
    }
   ],
   "source": [
    "tb = TextBlob(text3,analyzer=NaiveBayesAnalyzer())\n",
    "tb.sentiment"
   ]
  },
  {
   "cell_type": "code",
   "execution_count": null,
   "id": "eb4e7e9c",
   "metadata": {},
   "outputs": [],
   "source": []
  }
 ],
 "metadata": {
  "kernelspec": {
   "display_name": "Python 3",
   "language": "python",
   "name": "python3"
  },
  "language_info": {
   "codemirror_mode": {
    "name": "ipython",
    "version": 3
   },
   "file_extension": ".py",
   "mimetype": "text/x-python",
   "name": "python",
   "nbconvert_exporter": "python",
   "pygments_lexer": "ipython3",
   "version": "3.8.8"
  }
 },
 "nbformat": 4,
 "nbformat_minor": 5
}
